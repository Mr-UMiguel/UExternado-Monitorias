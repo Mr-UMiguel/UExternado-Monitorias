{
  "cells": [
    {
      "cell_type": "markdown",
      "metadata": {
        "id": "DypIKwkMhr9c"
      },
      "source": [
        "# Asistenica académica R y Python"
      ]
    },
    {
      "cell_type": "markdown",
      "metadata": {
        "id": "DWT1wSu7hr9e"
      },
      "source": [
        "El objetivo de esta asistencia académica es dar un repaso y profundización de la programación en python para el curso de Teoría de Portafolio y finanzas computacionales, así como resolver dudas de los planteamientos teóricos, conceptos y fórmulas matemáticas que no hayan quedado del todo claras en clase. \n",
        "\n",
        "La metodología consiste en 3 sesiones iniciales para repasar temas de programación, estadística descriptiva, probabilidad, álgebra lineal y optimización. Posteriormente se dejará un espacio a disposición de los estudiantes para resolver dudas o realizar ejercicios pre parcial.\n",
        "\n",
        "Se asume que el estudiante ya ha visto con anterioridad cursos de programación y está familiarizado con el lenguaje así como los editores como jupyter notebook o google colab."
      ]
    },
    {
      "cell_type": "markdown",
      "metadata": {
        "id": "nkzXreWJhr9f"
      },
      "source": [
        "## ¿Se resolverán dudas de R?\n",
        "\n",
        "No es el objetivo del curso, por ende, no se dará prelación a estas dudas, sin embargo, si el estudiante lo considera necesario se puede considerar dar una clase explicando la sintaxis de R."
      ]
    },
    {
      "cell_type": "markdown",
      "metadata": {
        "id": "J1rDsOExhr9f"
      },
      "source": [
        "# Parte 1: Estadística descriptiva "
      ]
    },
    {
      "cell_type": "markdown",
      "metadata": {
        "id": "lDDq3m_1hr9g"
      },
      "source": [
        "## Medidas de tendencia central \n"
      ]
    },
    {
      "cell_type": "markdown",
      "metadata": {
        "id": "ac3zc0Y-hr9g"
      },
      "source": [
        "### Media\n",
        "La media o promedio aritmpetico es la medida de tendencia central por excelencia, dado un conjunto de valores $x_{1}, x_{2}, ..., x_{n}$ la media se denota por $\\bar{x}$ y se denota por:\n",
        "\n",
        "\\begin{align}\n",
        "    \\bar{x} &= \\frac{x_{1}+x_{2}+...+x_{n}}{n} = \\frac{1}{n}\\sum_{i=1}^{n}x_{i}\n",
        "\\end{align}\n",
        "\n",
        "Nota:\n",
        "$\\bar{x}$ es el promedio de observaciones de una muestra particular, mientras que $\\mu_{x}$ será el estimador de la media poblacional"
      ]
    },
    {
      "cell_type": "code",
      "execution_count": 10,
      "metadata": {
        "colab": {
          "base_uri": "https://localhost:8080/"
        },
        "id": "JhXJ6VAChr9h",
        "outputId": "f5ed2dc6-37f5-42bf-ae77-31b5893010e2"
      },
      "outputs": [
        {
          "data": {
            "text/plain": [
              "5.5"
            ]
          },
          "execution_count": 10,
          "metadata": {},
          "output_type": "execute_result"
        }
      ],
      "source": [
        "### Ejercicio\n",
        "# Calcule la media o promedio aritmético de los siguientes valores\n",
        "X = [1,2,3,4,5,6,7,8,9,10] \n",
        "mean_x = sum(X)/len(X)\n",
        "mean_x"
      ]
    },
    {
      "cell_type": "markdown",
      "metadata": {
        "id": "iKyK-o1Vhr9i"
      },
      "source": [
        "### Mediana\n",
        "Si se tuviese una muestra representativa y sus observaciones se ordenaran de menor a mayor, la mediana sería el dato de justo la mitad de las observaciones. note que \n",
        "\n",
        "\\begin{align}\n",
        "    \\tilde{x} &= \n",
        "    \\begin{cases}\n",
        "      x_{\\frac{{n}+1}{2}} & \\text{si $n$ es impar}\\\\\n",
        "      \\frac{x_{\\frac{{n}}{2}}+x_{(\\frac{{n}}{2}+1)}}{2} & \\text{si $n$ es par}\\\\\n",
        "    \\end{cases}\n",
        "\\end{align}\n",
        "\n",
        "siendo $n$ el número de observaciones o, lo que es lo mismo, la cantidad de elementos de la muestra"
      ]
    },
    {
      "cell_type": "code",
      "execution_count": 37,
      "metadata": {
        "id": "Y38qYrfNhr9j"
      },
      "outputs": [],
      "source": [
        "### Ejericio \n",
        "## OJO! recuerde que el posicionamiento en Python inicia en 0!!!!\n",
        "# Calcule la mediana de los siguientes valores\n",
        "X = [12,40,20,8,32,25,17,11,32,27] # es par \n",
        "median_x = (X[int(10/2)-1]+X[(int(10/2)+1-1)])/2\n",
        "\n",
        "Y = [13,1,3,5,10,15,2,9,4,7,11,12,14,6,8] # es impar\n",
        "median_y = Y[int(15+1/2)-1]"
      ]
    },
    {
      "cell_type": "markdown",
      "metadata": {
        "id": "qdxdoBs0hr9k"
      },
      "source": [
        "### Otras medidas de tendencia central y localización\n",
        "\n",
        "La moda, los cuantiles o cuartiles, el promedio armónico y el promedio geométrico son otras medidas útiles de tendencia central."
      ]
    },
    {
      "cell_type": "markdown",
      "metadata": {
        "id": "4dXtfMLkhr9l"
      },
      "source": [
        "## Medias de dispersión "
      ]
    },
    {
      "cell_type": "markdown",
      "metadata": {
        "id": "cmgVj3drhr9l"
      },
      "source": [
        "### Varianza\n",
        "La varianza muestral $s^{2}$ está dada por el promedio de las desviaciones de cada observación respecto a la media elevadas al cuadrado, esto es\n",
        "\n",
        "\\begin{align}\n",
        "    s^{2} &= \\frac{1}{n-1}\\sum_{n=1}^{n}(x_{i}-\\bar{x})^{2}\n",
        "\\end{align}"
      ]
    },
    {
      "cell_type": "code",
      "execution_count": 60,
      "metadata": {
        "colab": {
          "base_uri": "https://localhost:8080/"
        },
        "id": "ER0Fn_xphr9l",
        "outputId": "398e37f8-54a1-4772-b3d3-ce54aa3506c4"
      },
      "outputs": [
        {
          "data": {
            "text/plain": [
              "111.37777777777777"
            ]
          },
          "execution_count": 60,
          "metadata": {},
          "output_type": "execute_result"
        }
      ],
      "source": [
        "import time\n",
        "### Ejercicio\n",
        "# Calcule la varianza muestral de los siguientes valores\n",
        "X = [12,40,20,8,32,25,17,11,32,27]\n",
        "denominador = 1/(len(X)-1)\n",
        "numerador = []\n",
        "\n",
        "mean_x = sum(X)/len(X)\n",
        "for i in X:\n",
        "  xi_menos_xmean = i - mean_x\n",
        "  xi_menos_xmean_al_cuadrado = xi_menos_xmean**(2)\n",
        "  numerador.append(xi_menos_xmean_al_cuadrado)\n",
        "\n",
        "varianza = sum(numerador)*denominador\n",
        "varianza\n"
      ]
    },
    {
      "cell_type": "code",
      "execution_count": 61,
      "metadata": {
        "colab": {
          "base_uri": "https://localhost:8080/"
        },
        "id": "DgmRInTpyi4H",
        "outputId": "243d4561-b1d0-42fe-9a3b-09bc114a2efa"
      },
      "outputs": [
        {
          "data": {
            "text/plain": [
              "111.37777777777777"
            ]
          },
          "execution_count": 61,
          "metadata": {},
          "output_type": "execute_result"
        }
      ],
      "source": [
        "sum([(i-mean_x)**(2) for i in X]) * denominador"
      ]
    },
    {
      "cell_type": "code",
      "execution_count": 63,
      "metadata": {
        "colab": {
          "base_uri": "https://localhost:8080/"
        },
        "id": "IBnj0qAOyuCs",
        "outputId": "0a2db612-a7bc-4aba-a381-b770e6b3617a"
      },
      "outputs": [
        {
          "data": {
            "text/plain": [
              "111.37777777777777"
            ]
          },
          "execution_count": 63,
          "metadata": {},
          "output_type": "execute_result"
        }
      ],
      "source": [
        "sum(list(map(lambda x: (x-mean_x)**(2),X)))*denominador"
      ]
    },
    {
      "cell_type": "markdown",
      "metadata": {
        "id": "z_DqgFmyhr9m"
      },
      "source": [
        "### Desviación estándar\n",
        "\n",
        "La desviación estándar es la raíz cuadrada de la varianza, la desviación estándar se puede interpetar como la distancia promedio entre la media y algún valor $x_{i}$\n",
        "\n",
        "\\begin{align}\n",
        "    s &= \\sqrt{s^{2}}\n",
        "\\end{align}\n",
        "\n",
        "Es útil considerar a $s$ más que a $s^{2}$ ya que la desviación estándar presenta la misma unidad de \"medida\" que cada una de las $x_{i}$, por ejemplo, si una acción presenta una desviación estándar del $5\\%$ de sus retornos, entonces cada observación se \"desvía\" en promedio $5\\%$ de la media de los retornos."
      ]
    },
    {
      "cell_type": "markdown",
      "metadata": {
        "id": "-R41498yhr9n"
      },
      "source": [
        "Nota: $s^{2}$ y $s$, serán la varianza y desviación estándar para una muestra particular, mientras que $\\sigma^{2}$ y $\\sigma$ serán la varianza y desviación estándar poblacional, respectivamente."
      ]
    },
    {
      "cell_type": "code",
      "execution_count": 65,
      "metadata": {
        "colab": {
          "base_uri": "https://localhost:8080/"
        },
        "id": "9NOkx1oezOug",
        "outputId": "0e71471c-5602-4e35-8367-44a2eb905d74"
      },
      "outputs": [
        {
          "data": {
            "text/plain": [
              "10.553567064162609"
            ]
          },
          "execution_count": 65,
          "metadata": {},
          "output_type": "execute_result"
        }
      ],
      "source": [
        "desviacion = varianza**(1/2)"
      ]
    },
    {
      "cell_type": "markdown",
      "metadata": {
        "id": "-7I7sIL7hr9n"
      },
      "source": [
        "## Gráficos útiles en estadística descriptiva "
      ]
    },
    {
      "cell_type": "markdown",
      "metadata": {
        "id": "9zcdnQgphr9o"
      },
      "source": [
        "## Histograma"
      ]
    },
    {
      "cell_type": "markdown",
      "metadata": {
        "id": "19MVs545hr9o"
      },
      "source": [
        "![histograma](https://github.com/Mr-UMiguel/UExternado-Monitorias/blob/master/Monitoria1/charts/hists.png?raw=1)"
      ]
    },
    {
      "cell_type": "code",
      "execution_count": null,
      "metadata": {
        "id": "oK79LwF9hr9o"
      },
      "outputs": [],
      "source": [
        "### Ejercicio\n",
        "# Importe la librería matplotlib y/o seaborn y construya el histograma de los siguientes datos\n",
        "X = [14.901231590849573, 20.86214988127044, 5.1439880376796845, 11.076829439415711, 5.32852594309263, 12.776686821027976, 4.468554485960943, 5.892019356825903, 8.338546249955037, 8.516860215562886, 9.799142535115449, 6.179853368549011, 15.501087232059737, 0.49348166426323914, 1.8935769015739687, 14.71002394962839, 0.004918842803705914, 9.192304602414275, 3.961722040283947, 12.360268928184968, 15.540846370867937, 10.403433447919587, 13.687814279998413, 4.379691669460268, 12.50684303782319, 10.676135233950165, 8.643292207137627, 21.391934927561625, 5.935613782920685, 0.16307235435117384, 10.458569264937205, 6.603039621100454, 7.1897070506048255, 8.681810969106955, 3.3432590555294706, 10.931870527855544, 17.9556112318914, 19.3160163938891, 4.15821867996447, 11.131584799288385, 8.6640212344068, 6.171707849275672, 6.471618176789829, 5.890251657377512, 6.90975595230159, 17.320748036599884, 8.98573758931042, 18.328242396519922, 11.6219439320021, 15.22169929487118, 10.441754989675538, 7.738050656006245, 22.929218266565087, 0.3075557241179041, 18.061027665157095, 13.964376186917455, 6.78906377014062, 8.5930374569039, 6.451387472598643, 4.967426381778841, 9.86397262802512, 15.023441491260304, 8.774241595772587, 9.790057025346387, 7.381136610591454, 14.787715394991867, 12.58681642353226, 6.488962690717619, 15.674671544365477, 7.299977787326266, 5.124174508499392, 13.6590396627745, 11.052166212425997, -5.738988068873347, 19.61682914733974, 11.759963334603352, 17.54671393319765, 12.188476532448805, 9.381281960754249, 8.689014599465045, 12.240181277601202, 13.976385800112475, 8.46306457765296, 9.109231289104551, 13.351064879629995, 6.739284434275432, 6.270996580466666, 19.292931205418185, 11.16673264806935, 12.017677250796297, -2.3240893749022344, 4.526669936898299, 13.981631351629181, 15.503435988906501, 22.47936954239838, 9.924534528873837, 6.579716982767402, 12.199375789534061, 11.324066481954697, 12.07892942050242]\n",
        "\n",
        "# fig = plt.figure(figsize=(10,7))"
      ]
    },
    {
      "cell_type": "markdown",
      "metadata": {
        "id": "8ujwChIjhr9p"
      },
      "source": [
        "## Grafico de caja  "
      ]
    },
    {
      "cell_type": "markdown",
      "metadata": {
        "id": "ZmMajl3Fhr9p"
      },
      "source": [
        "![boxplot](https://github.com/Mr-UMiguel/UExternado-Monitorias/blob/master/Monitoria1/charts/boxplot.png?raw=1)"
      ]
    },
    {
      "cell_type": "code",
      "execution_count": null,
      "metadata": {
        "id": "lt1HVpwphr9p"
      },
      "outputs": [],
      "source": [
        "### Ejercicio\n",
        "# Grafique el boxplot para los datos anteriores\n",
        "\n",
        "# fig = plt.figure(figsize=(10,7))"
      ]
    },
    {
      "cell_type": "markdown",
      "metadata": {
        "id": "_WuU_ZJdhr9p"
      },
      "source": [
        "## Histograma y grafico de caja"
      ]
    },
    {
      "cell_type": "markdown",
      "metadata": {
        "id": "0u-pUxyWhr9q"
      },
      "source": [
        "![histboxplot](https://github.com/Mr-UMiguel/UExternado-Monitorias/blob/master/Monitoria1/charts/histboxplot.png?raw=1)"
      ]
    },
    {
      "cell_type": "markdown",
      "metadata": {
        "id": "qG0ZjAnuhr9q"
      },
      "source": [
        "# Parte 2: Probabilidad"
      ]
    },
    {
      "cell_type": "markdown",
      "metadata": {
        "id": "x3iW0hz0hr9q"
      },
      "source": [
        "Hasta el momento hemos visto estadística descriptiva de una muestra particular de una población. Ahora, debemos introducir el concepto de incertidumbre y pasar de datos descriptivos a funciones numéricas para dar paso a realizar inferencias. \n",
        "\n",
        "Por practicidad y aplicación en el curso se asume un tipo de variable aleatoria: la variable aleatoria continua "
      ]
    },
    {
      "cell_type": "markdown",
      "metadata": {
        "id": "N8kbPml2hr9q"
      },
      "source": [
        "## ¿Que es una Variable aleatoria?\n",
        "\n",
        "Una variable aleatoria se define como una función que asigna un valor numérico a la realización de un experimento aleatorio. El ejemplo más usual es considerar $X$ como una variable aleatoria que asigna un valor al resultado de un experimento aleatorio como lanzar un dado, luego $X \\rightarrow x = {1,2,3,4,5,6}$.\n",
        "\n",
        "Canavos. (1988). da la siguiente definición:\n",
        "\n",
        "> \"Def 3.1 Sea $S$ un espacio muestral sobre el que se encuentra definida una función de probabilidad. Sea $X$ una función de valor real definida sobre $S$, de manera que transforme los resultados de $S$ en puntos sobre la recta de los reales. Se dice entonces que $X$ es una variable aleatoria\". (p. 52)"
      ]
    },
    {
      "cell_type": "markdown",
      "metadata": {
        "id": "vznHZtJchr9q"
      },
      "source": [
        "## ¿Qué es una Variable Aleatoria Continua?\n",
        "\n",
        "Una variable aleatoria continua es aquella en la que su resultado está definido en cualquier intervalo de la recta real, en otras palabras, su resultado no es contable y no se puede ordenar en una secuencia de enteros positivos. (Canavos. 1988. p 53).\n",
        "\n",
        "Por ejemplo, sea $S$ un espacio muestral que contenga el conjunto de retornos históricos de un instrumento financiero hasta una fecha determinada, Entonces $X$ puede asignar cualquier valor real a la realización de un evento de ese espacio muestral. \n",
        "\n",
        "En otras palabras, imagine una bolsa, chuspa o talego con los posibles retornos de apple desde su emisión hasta hoy anotados en papeletas, ahora usted escoje de manera aleatoria una papeleta, el resultado que contenga puede ser $1\\%$ o $5\\%$ o $-10\\%$, etc. Estos resultados en la práctica pueden tomar cualquier valor real y no necesariamente están ordenados en una secuencia de enteros positivos."
      ]
    },
    {
      "cell_type": "markdown",
      "metadata": {
        "id": "rON-FhSOhr9q"
      },
      "source": [
        "## Función de densidad de probabilidad\n",
        "\n",
        "> Def 3.6: Si existe una función $f(x)$ tal que:\n",
        "\n",
        " 1. $f(x)\\geq 0$,  $-\\infty < x < \\infty$ \n",
        " 2. $\\int_{-\\infty}^{\\infty}f(x)dx = 1$\n",
        " 3. $\\mathbb{P}(a\\geq X \\geq b) = \\int_{a}^{b}f(x)dx$\n",
        "\n",
        "Para cualesquiera $a$ y $b$, entonces $f(x)$, es la función de densidad de probabilidad de la variable aleatoria continua $X$."
      ]
    },
    {
      "cell_type": "markdown",
      "metadata": {
        "id": "ins2aTWYhr9r"
      },
      "source": [
        "![pdf.png](https://github.com/Mr-UMiguel/UExternado-Monitorias/blob/master/Monitoria1/charts/pdf.png?raw=1)"
      ]
    },
    {
      "cell_type": "markdown",
      "metadata": {
        "id": "H7jt_ACDhr9r"
      },
      "source": [
        "## Valor esperado de una variable aleatoria continua\n",
        "\n",
        "El valor esperado o esperanza matemática es un dato estimado a partir de las observaciones de una variable aleatoria. Su estimación consiste en hayar la suma del producto entre la probabilidad de que el evento ocurra y su valor, es decir.\n",
        "\n",
        "\\begin{align}\n",
        "    E[X] &= \\int_{-\\infty}^{\\infty}xf(x)dx \n",
        "\\end{align}\n",
        "\n",
        "### Relación entre el valor esperado y el promedio artimético\n",
        "Se asume que el valor esperado de una variable aleatoria continua es su promedio ponderado.\n",
        "\n",
        "\n",
        "\\begin{align}\n",
        "    E[X] &= \\frac{1}{n}\\sum_{i=1}^{n}x_{i} &= \\mu_{X}\n",
        "\\end{align}\n",
        "\n",
        "Tal que $x_{i} = {x_{1},x_{2},...,x_{n}} \\in X$. El valor esperado también se conoce como primer momento estadístico.\n",
        "\n"
      ]
    },
    {
      "cell_type": "code",
      "execution_count": null,
      "metadata": {
        "id": "FxPBptIkhr9r"
      },
      "outputs": [],
      "source": [
        "# El promedio aritmético de la siguiente lista de valores es:\n",
        "X = [1,2,3,4,5,6,7,8,9,10]\n",
        "mu_x = (1/10) * sum(X) #mu_x se lee \"miu sub x, o miu de x, o el promedio de x"
      ]
    },
    {
      "cell_type": "code",
      "execution_count": null,
      "metadata": {
        "id": "9MXImQ8Ohr9r",
        "outputId": "bab64355-1c33-4236-9efa-9f455e7bcf33"
      },
      "outputs": [
        {
          "data": {
            "text/plain": [
              "10"
            ]
          },
          "execution_count": 158,
          "metadata": {},
          "output_type": "execute_result"
        }
      ],
      "source": [
        "# Note que para listas, series o vectores muy grandes conviene usar len()\n",
        "# len() retorna la longitud (cantidad de elementos) del objeto\n",
        "len(X)"
      ]
    },
    {
      "cell_type": "code",
      "execution_count": null,
      "metadata": {
        "id": "b7LccgIthr9s",
        "outputId": "25fa5a67-9e61-40f1-c83e-4b5e635e9476"
      },
      "outputs": [
        {
          "data": {
            "text/plain": [
              "5.5"
            ]
          },
          "execution_count": 159,
          "metadata": {},
          "output_type": "execute_result"
        }
      ],
      "source": [
        "mu_x = 1/len(X) * sum(X)\n",
        "mu_x"
      ]
    },
    {
      "cell_type": "markdown",
      "metadata": {
        "id": "HinJbtn-hr9s"
      },
      "source": [
        "## La varianza\n",
        "\n",
        "La varianza o segundo momento estadístico, es una medida de dispersión que mide la \"variabilidad\" de la variable aleatoria en torno a su media. suponga la siguiente gráfica\n",
        "\n",
        "\n"
      ]
    },
    {
      "cell_type": "markdown",
      "metadata": {
        "id": "LcLIE9CLhr9w"
      },
      "source": [
        "![scatter1](https://github.com/Mr-UMiguel/UExternado-Monitorias/blob/master/Monitoria1/charts/scatter1.png?raw=1)"
      ]
    },
    {
      "cell_type": "markdown",
      "metadata": {
        "id": "8CYX3gpFhr9w"
      },
      "source": [
        "Cada punto azul, representa una observación de la variable aleatoria X, X tiene 20 elementos, por ende su valor esperado es \n",
        "\\begin{align}\n",
        "    E[X] &= \\frac{1}{20}\\sum_{i=1}^{20}x_{i} = \\mu_{X} = -7.98\n",
        "\\end{align}\n",
        "\n",
        "Donde $x_{1} = 155.13, x_{2} = 7.91, ... , x_{20} = -189$ son valores desconocidos generados aleatoriamente.\n",
        "\n",
        "Ahora, gráficamente la varianza se puede ver como:"
      ]
    },
    {
      "cell_type": "markdown",
      "metadata": {
        "id": "6Dzr_12ghr9w"
      },
      "source": [
        "![scatter1](https://github.com/Mr-UMiguel/UExternado-Monitorias/blob/master/Monitoria1/charts/scatter2.png?raw=1)"
      ]
    },
    {
      "cell_type": "markdown",
      "metadata": {
        "id": "fGPvTfv2hr9w"
      },
      "source": [
        "Cada linea representan la distancia del punto al valor esperado, y la varianza se define como el promedio de la resta al cuadrado entre el valor observado $x_{i}$ y el valor esperado $\\mu_{x}$, esto es:\n",
        "\n",
        "\\begin{align}\n",
        "    V[X] &= E[(X - E[X])^{2}] &= \\frac{1}{n-1}\\sum_{i=1}^{n} (x_{i} - \\mu_{x})^{2} = \\sigma^{2}_{X}\n",
        "\\end{align}"
      ]
    },
    {
      "cell_type": "code",
      "execution_count": null,
      "metadata": {
        "id": "VPZP1MLMhr9x",
        "outputId": "b4d9a652-95e5-419f-831a-bf45e8e1e70d"
      },
      "outputs": [
        {
          "data": {
            "text/plain": [
              "9.166666666666666"
            ]
          },
          "execution_count": 160,
          "metadata": {},
          "output_type": "execute_result"
        }
      ],
      "source": [
        "# La varianza de la siguiente lista de valores es\n",
        "X = [1,2,3,4,5,6,7,8,9,10]\n",
        "mu_x = (1/10) * sum(X) \n",
        "\n",
        "var_x = (1/(len(X)-1)) * sum(list(map(lambda x: (x-mu_x)**2, X))) # la función map me permite iterar sobre una lista\n",
        "var_x"
      ]
    },
    {
      "cell_type": "markdown",
      "metadata": {
        "id": "tUVRj14Hhr9x"
      },
      "source": [
        "## Desviazión estándar\n",
        "\n",
        "La desviazión estándar es la raíz cuadrada de la varianza\n",
        "\n",
        "\\begin{align}\n",
        "    \\sigma_{X} = \\sqrt{\\sigma^{2}_{X}}\n",
        "\\end{align}"
      ]
    },
    {
      "cell_type": "markdown",
      "metadata": {
        "id": "m_Zzg_0Khr9x"
      },
      "source": [
        "## Covarianza\n",
        "\n",
        "La covarianza es una medida de asociación lineal entre dos variables aleatorias. La magnitud de la covarianza no tiene una interpretación directa, no obstante, su signo (positivo o negativo) es muy disciente, por ejemplo. \n",
        "\n",
        " + $cov_{X,Y} > 0$ indica una asociación lineal positiva, por ejemplo, si $x$ aumenta entonces $y$ también aumenta, si $x$ disminuye entonces $y$ también disminuye, y visceversa.\n",
        " + $cov_{X,Y} = 0$ $x$ e $y$ son independientes\n",
        " + $cov_{X,Y} < 0$ indica una asociación lineal negativa, por ejemplo si $x$ aumenta entonces $y$ disminuye, si $x$ disminuye entonces $y$ aumenta, y visceversa. \n",
        "\n",
        "la covarianza entre dos variables aleatorias se puede calcular de la siguiente manera:\n",
        "\n",
        "\\begin{align}\n",
        "    COV[X,Y] = \\frac{1}{T}\\sum_{i,j = 1}^{T} (x_{i} - \\mu_{x})(y_{i}-\\mu_{y}) = \\sigma_{X,Y} \n",
        "\\end{align}"
      ]
    },
    {
      "cell_type": "code",
      "execution_count": null,
      "metadata": {
        "id": "N4Ara4JVhr9x",
        "outputId": "1a310ab6-70f9-431a-ba88-faa86ec4340d"
      },
      "outputs": [
        {
          "name": "stdout",
          "output_type": "stream",
          "text": [
            "-8.1\n"
          ]
        }
      ],
      "source": [
        "# La covarianza entre dos variables aleatorias es\n",
        "X = [12,20,4,15,18,10,22,25,2,17]\n",
        "Y = [24,32,54,40,20,38,45,27,23,47]\n",
        "\n",
        "mu_x = 1/len(X) * sum(X)\n",
        "mu_y = 1/len(Y) * sum(Y)\n",
        "\n",
        "if len(X) == len(Y):\n",
        "    cov_xy = 1/len(X) * sum(list(map(lambda x,y: (x-mu_x)*(y-mu_y),X,Y)))\n",
        "    print(cov_xy) "
      ]
    },
    {
      "cell_type": "markdown",
      "metadata": {
        "id": "wjDRivN8hr9x"
      },
      "source": [
        "Como la covarianza es -8.1, se concluye que cuando aumenta $x$ entonces $y$ disminuye\n",
        "\n",
        "![scatter3](https://github.com/Mr-UMiguel/UExternado-Monitorias/blob/master/Monitoria1/charts/scatter3.png?raw=1)"
      ]
    },
    {
      "cell_type": "markdown",
      "metadata": {
        "id": "VCbyAIVyhr9y"
      },
      "source": [
        "## Coeficiente de correlación de Pearson\n",
        "\n",
        "El coeficiente de correlación de Pearson, al igual que la covarianza, es una medida de asociación lineal entre dos variables aleatorias, no obstante, esta medida se puede interpretar como de \"dependencia lineal\" que fluctúa en el intervalo [-1,1], en este caso la magnitud tiene cierta interpretabilidad mostrando independencia entre las variables para valores cercanos a 0 y dependencia lineal para valores cercanos a 1 o a -1\n",
        "\n",
        "\\begin{align}\n",
        "\\rho_{X,Y} = \\frac{\\sigma_{X,Y}}{\\sigma_{X}\\sigma_{Y}}\n",
        "\\end{align}\n",
        "\n",
        " + $\\rho_{X,Y} > 0$ correlación lineal positiva \n",
        " + $\\rho_{X,Y} = 0$ Independencia lineal\n",
        " + $\\rho_{X,Y} < 0$ correlación lineal negativa\n",
        " + $\\rho_{X,Y} \\rightarrow 1$ Dependencia lineal positiva \n",
        " + $\\rho_{X,Y} \\rightarrow -1$ Dependencia lineal negativa\n",
        "    "
      ]
    },
    {
      "cell_type": "code",
      "execution_count": null,
      "metadata": {
        "id": "0lKQqtYvhr9y",
        "outputId": "14026395-9226-4cef-a560-fba8e5b55396"
      },
      "outputs": [
        {
          "data": {
            "text/plain": [
              "-0.09324591519684246"
            ]
          },
          "execution_count": 163,
          "metadata": {},
          "output_type": "execute_result"
        }
      ],
      "source": [
        "# El coeficiente de correlación entre dos variables aleatorias es\n",
        "X = [12,20,4,15,18,10,22,25,2,17]\n",
        "Y = [24,32,54,40,20,38,45,27,23,47]\n",
        "\n",
        "mu_x = 1/len(X) * sum(X)\n",
        "mu_y = 1/len(Y) * sum(Y)\n",
        "\n",
        "if len(X) == len(Y):\n",
        "    cov_xy = 1/len(X) * sum(list(map(lambda x,y: (x-mu_x)*(y-mu_y),X,Y)))\n",
        "\n",
        "var_x = (1/(len(X)-1)) * sum(list(map(lambda x: (x-mu_x)**2, X)))\n",
        "std_x = var_x**(1/2)\n",
        "\n",
        "var_y = (1/(len(Y)-1)) * sum(list(map(lambda y: (y-mu_y)**2, Y)))\n",
        "std_y = var_y**(1/2)\n",
        "\n",
        "cor_xy = cov_xy/(std_x*std_y)\n",
        "cor_xy"
      ]
    },
    {
      "cell_type": "markdown",
      "metadata": {
        "id": "7U_gMbAMhr9y"
      },
      "source": [
        "# Parte 3: Aplicar lo aprendido en código  "
      ]
    },
    {
      "cell_type": "markdown",
      "metadata": {
        "id": "SnUHzOoMhr9y"
      },
      "source": [
        "## Numpy arrays"
      ]
    },
    {
      "cell_type": "markdown",
      "metadata": {
        "id": "TwgI_mVhhr9z"
      },
      "source": [
        "Antes de continuar con la tercera parte debemos hacer un paréntesis ya que de ahora en adelante usaremos en lo posible vectores y matrices usando los objetos de Numpy"
      ]
    },
    {
      "cell_type": "code",
      "execution_count": null,
      "metadata": {
        "id": "kQ6XXS2ahr9z",
        "outputId": "592855e0-d2c6-494d-8989-bf900e73cb5d"
      },
      "outputs": [
        {
          "name": "stdout",
          "output_type": "stream",
          "text": [
            "(10,) (10,)\n"
          ]
        },
        {
          "data": {
            "text/plain": [
              "array([12, 20,  4, 15, 18, 10, 22, 25,  2, 17])"
            ]
          },
          "execution_count": 35,
          "metadata": {},
          "output_type": "execute_result"
        }
      ],
      "source": [
        "import numpy as np\n",
        "\n",
        "X = np.array([12,20,4,15,18,10,22,25,2,17])\n",
        "Y = np.array([24,32,54,40,20,38,45,27,23,47])\n",
        "\n",
        "print(\n",
        "    X.shape,\n",
        "    Y.shape\n",
        ")\n",
        "X"
      ]
    },
    {
      "cell_type": "code",
      "execution_count": null,
      "metadata": {
        "id": "aDCqA70dhr9z",
        "outputId": "b3046853-396f-4729-bf00-391fc6638613"
      },
      "outputs": [
        {
          "data": {
            "text/plain": [
              "14.5"
            ]
          },
          "execution_count": 37,
          "metadata": {},
          "output_type": "execute_result"
        }
      ],
      "source": [
        "X.mean()"
      ]
    },
    {
      "cell_type": "markdown",
      "metadata": {
        "id": "xOIvyy3fhr90"
      },
      "source": [
        "Note que a diferencia de trabajar con listas, un \"array\" o \"arreglo\" es un vector n dimensional, esto nos permite realizar operaciones algebráicas y trabajar con programación vectorizada, que es computacionalmente más eficiente."
      ]
    },
    {
      "cell_type": "markdown",
      "metadata": {
        "id": "FSriLcrchr90"
      },
      "source": [
        "## Pandas Series & DataFrames"
      ]
    },
    {
      "cell_type": "markdown",
      "metadata": {
        "id": "lJE0NrHahr90"
      },
      "source": [
        "Pandas me permite convertir objetos como listas o arrays n dimensioanles en objetos tipo pandas.Series, que similar a un array de numpy me permite hacer operaciones sobre vectores y matrices. No obstante, se debe aclarar que la diferencia principal entre un array de numpy y una serie o dataframe de pandas esque en el primero todos los elementos del array deben ser del primer tipo, mientras que, en el segundo caso yo podría tener una dataframe con datos numéricos y datos de texto, etc."
      ]
    },
    {
      "cell_type": "code",
      "execution_count": null,
      "metadata": {
        "id": "z7CbHxiThr90",
        "outputId": "d75ef841-fe19-4392-d09a-204ed7d6f101"
      },
      "outputs": [
        {
          "name": "stdout",
          "output_type": "stream",
          "text": [
            "(10,) (10,)\n"
          ]
        },
        {
          "data": {
            "text/plain": [
              "0    12\n",
              "1    20\n",
              "2     4\n",
              "3    15\n",
              "4    18\n",
              "5    10\n",
              "6    22\n",
              "7    25\n",
              "8     2\n",
              "9    17\n",
              "dtype: int64"
            ]
          },
          "execution_count": 36,
          "metadata": {},
          "output_type": "execute_result"
        }
      ],
      "source": [
        "import pandas as pd\n",
        "\n",
        "X = pd.Series([12,20,4,15,18,10,22,25,2,17])\n",
        "Y = pd.Series([24,32,54,40,20,38,45,27,23,47])\n",
        "\n",
        "print(\n",
        "    X.shape,\n",
        "    Y.shape\n",
        ")\n",
        "X"
      ]
    },
    {
      "cell_type": "code",
      "execution_count": null,
      "metadata": {
        "id": "1JmnZF-qhr90",
        "outputId": "9fbd84dd-9b50-49d7-e589-7ec21f5c20ca"
      },
      "outputs": [
        {
          "data": {
            "text/plain": [
              "14.5"
            ]
          },
          "execution_count": 38,
          "metadata": {},
          "output_type": "execute_result"
        }
      ],
      "source": [
        "X.mean()"
      ]
    },
    {
      "cell_type": "markdown",
      "metadata": {
        "id": "bJrm4N5ohr91"
      },
      "source": [
        "## ¿Cuál Usar?\n",
        "\n",
        "Lo ideal esque para el importe y limpieza de datos utilicemos pandas, pero para los cálculos numéricos usemos numpy. No obstante, si usa adecuadamente ambos puede usarlos indistintamente"
      ]
    },
    {
      "cell_type": "code",
      "execution_count": null,
      "metadata": {
        "id": "39Zy43IFhr91"
      },
      "outputs": [],
      "source": [
        "### Ejercicio\n",
        "# 1. Importe los datos de tsla en la carpeta ./datasets/tsla.xlsx\n",
        "# 2. Declare un objeto array con numpy o Serie con pandas\n",
        "# 3. calcule el promedio, la varianza y la desviación estándar\n",
        "\n",
        "# tsla = "
      ]
    },
    {
      "cell_type": "code",
      "execution_count": null,
      "metadata": {
        "id": "SsPe4QFohr91"
      },
      "outputs": [],
      "source": [
        "### Ejericio \n",
        "# 1. importe los precios de Tesla, Apple y Pfizer usando la librería yfinance\n",
        "#    desde el 5 de agosto de 2019 hasta el 5 de agosto de 2022\n",
        "\n",
        "# 3. Use la columna 'Adj Close' y grafique las 3 series\n",
        "# 4. Mencione brevemente que puede deducir del gráfico, puede utilizar conceptos de finanzas o de econometría  \n",
        "\n",
        "# data = \n"
      ]
    },
    {
      "cell_type": "code",
      "execution_count": null,
      "metadata": {
        "id": "xvMD7IWWhr91"
      },
      "outputs": [],
      "source": [
        "### Ejercicio\n",
        "# 1. Cree una función que importe los datos de yfinance\n",
        "\n",
        "# def get_data():"
      ]
    }
  ],
  "metadata": {
    "colab": {
      "name": "estadística_probabilidad.ipynb",
      "provenance": []
    },
    "kernelspec": {
      "display_name": "Python 3.10.5 ('cursos')",
      "language": "python",
      "name": "python3"
    },
    "language_info": {
      "codemirror_mode": {
        "name": "ipython",
        "version": 3
      },
      "file_extension": ".py",
      "mimetype": "text/x-python",
      "name": "python",
      "nbconvert_exporter": "python",
      "pygments_lexer": "ipython3",
      "version": "3.10.5"
    },
    "orig_nbformat": 4,
    "vscode": {
      "interpreter": {
        "hash": "711b956aa9e57167f0602a5d603fe1ad97ab6073cad01acce9e6aa53de4da7f0"
      }
    }
  },
  "nbformat": 4,
  "nbformat_minor": 0
}
