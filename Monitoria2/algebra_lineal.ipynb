{
 "cells": [
  {
   "cell_type": "markdown",
   "metadata": {},
   "source": [
    "# Parte 1: Declarar nuestra función para obtener los datos \n",
    "\n",
    "En programación es usual \"reciclar código\" utilizando funciones o clases que nos permitan repetir cálculos, procesos o acciones sin la necesidad de volver a escribir el código"
   ]
  },
  {
   "cell_type": "markdown",
   "metadata": {},
   "source": [
    "## get_prices()\n",
    "Crearemos la función get_prices() para obtener los precios de los activos financieros haciendo uso de la API yfinance"
   ]
  },
  {
   "cell_type": "code",
   "execution_count": 27,
   "metadata": {},
   "outputs": [],
   "source": [
    "import pandas as pd\n",
    "import numpy as np\n",
    "import yfinance as yf\n",
    "\n",
    "\n",
    "def get_prices(symbols,start,end, intervals):\n",
    "    \"\"\"\n",
    "    Función que retorna un array con el precio ajustado para cada símbolo\n",
    "\n",
    "    Parámetros:\n",
    "        symbols: list=['AAPL','TSLA']\n",
    "        start: str='YYYY-MM-DD'\n",
    "        end: str='YYYY-MM-DD'\n",
    "        intervals: str\n",
    "            valid intervals: 1m,2m,5m,15m,30m,60m,90m,1h,1d,5d,1wk,1mo,3mo\n",
    "    Ejemplo: \n",
    "\n",
    "    prices = get_prices(['AAPL','TSLA'],start='2021-01-01',end='2022-01-01',frequency='M')\n",
    "\n",
    "    \"\"\"\n",
    "    _data = yf.download(symbols,start=start,end=end,progress=False)\n",
    "    _prices = _data['Adj Close']\n",
    "    \n",
    "    return _prices"
   ]
  },
  {
   "cell_type": "code",
   "execution_count": 65,
   "metadata": {},
   "outputs": [
    {
     "data": {
      "text/html": [
       "<div>\n",
       "<style scoped>\n",
       "    .dataframe tbody tr th:only-of-type {\n",
       "        vertical-align: middle;\n",
       "    }\n",
       "\n",
       "    .dataframe tbody tr th {\n",
       "        vertical-align: top;\n",
       "    }\n",
       "\n",
       "    .dataframe thead th {\n",
       "        text-align: right;\n",
       "    }\n",
       "</style>\n",
       "<table border=\"1\" class=\"dataframe\">\n",
       "  <thead>\n",
       "    <tr style=\"text-align: right;\">\n",
       "      <th></th>\n",
       "      <th>AAPL</th>\n",
       "      <th>TSLA</th>\n",
       "    </tr>\n",
       "    <tr>\n",
       "      <th>Date</th>\n",
       "      <th></th>\n",
       "      <th></th>\n",
       "    </tr>\n",
       "  </thead>\n",
       "  <tbody>\n",
       "    <tr>\n",
       "      <th>2021-01-04</th>\n",
       "      <td>128.264999</td>\n",
       "      <td>729.770020</td>\n",
       "    </tr>\n",
       "    <tr>\n",
       "      <th>2021-01-05</th>\n",
       "      <td>129.850830</td>\n",
       "      <td>735.109985</td>\n",
       "    </tr>\n",
       "    <tr>\n",
       "      <th>2021-01-06</th>\n",
       "      <td>125.479851</td>\n",
       "      <td>755.979980</td>\n",
       "    </tr>\n",
       "    <tr>\n",
       "      <th>2021-01-07</th>\n",
       "      <td>129.761627</td>\n",
       "      <td>816.039978</td>\n",
       "    </tr>\n",
       "    <tr>\n",
       "      <th>2021-01-08</th>\n",
       "      <td>130.881607</td>\n",
       "      <td>880.020020</td>\n",
       "    </tr>\n",
       "    <tr>\n",
       "      <th>...</th>\n",
       "      <td>...</td>\n",
       "      <td>...</td>\n",
       "    </tr>\n",
       "    <tr>\n",
       "      <th>2021-12-27</th>\n",
       "      <td>179.836319</td>\n",
       "      <td>1093.939941</td>\n",
       "    </tr>\n",
       "    <tr>\n",
       "      <th>2021-12-28</th>\n",
       "      <td>178.799149</td>\n",
       "      <td>1088.469971</td>\n",
       "    </tr>\n",
       "    <tr>\n",
       "      <th>2021-12-29</th>\n",
       "      <td>178.888916</td>\n",
       "      <td>1086.189941</td>\n",
       "    </tr>\n",
       "    <tr>\n",
       "      <th>2021-12-30</th>\n",
       "      <td>177.712143</td>\n",
       "      <td>1070.339966</td>\n",
       "    </tr>\n",
       "    <tr>\n",
       "      <th>2021-12-31</th>\n",
       "      <td>177.083878</td>\n",
       "      <td>1056.780029</td>\n",
       "    </tr>\n",
       "  </tbody>\n",
       "</table>\n",
       "<p>252 rows × 2 columns</p>\n",
       "</div>"
      ],
      "text/plain": [
       "                  AAPL         TSLA\n",
       "Date                               \n",
       "2021-01-04  128.264999   729.770020\n",
       "2021-01-05  129.850830   735.109985\n",
       "2021-01-06  125.479851   755.979980\n",
       "2021-01-07  129.761627   816.039978\n",
       "2021-01-08  130.881607   880.020020\n",
       "...                ...          ...\n",
       "2021-12-27  179.836319  1093.939941\n",
       "2021-12-28  178.799149  1088.469971\n",
       "2021-12-29  178.888916  1086.189941\n",
       "2021-12-30  177.712143  1070.339966\n",
       "2021-12-31  177.083878  1056.780029\n",
       "\n",
       "[252 rows x 2 columns]"
      ]
     },
     "execution_count": 65,
     "metadata": {},
     "output_type": "execute_result"
    }
   ],
   "source": [
    "## Ejemplo\n",
    "prices = get_prices(['AAPL','TSLA'],start='2021-01-01',end='2022-01-01',\n",
    "                    intervals='1D')\n",
    "prices"
   ]
  },
  {
   "cell_type": "markdown",
   "metadata": {},
   "source": [
    "## Graficar los precios"
   ]
  },
  {
   "cell_type": "code",
   "execution_count": 66,
   "metadata": {},
   "outputs": [
    {
     "data": {
      "image/png": "[encoded data removed]",
      "text/plain": [
       "<Figure size 720x504 with 1 Axes>"
      ]
     },
     "metadata": {},
     "output_type": "display_data"
    }
   ],
   "source": [
    "import matplotlib.pyplot as plt\n",
    "import seaborn as sns\n",
    "\n",
    "sns.set_theme()\n",
    "\n",
    "fig = plt.figure(figsize=(10,7))\n",
    "\n",
    "sns.lineplot(data=prices)\n",
    "plt.show()\n"
   ]
  },
  {
   "cell_type": "markdown",
   "metadata": {},
   "source": [
    "## Normalizar los precios para graficarlos\n",
    "\n",
    "Es usual que en un portafolio tengamos diferentes activos con precios muy altos o muy bajos, esto nos impide ver una correcta visualización si quisieramos graficarlos juntos. En este caso, solo para efectos de la visualización es útil normalizar los datos"
   ]
  },
  {
   "cell_type": "markdown",
   "metadata": {},
   "source": [
    "\\begin{align}\n",
    "    X_{normalized} = \\frac{X-X_{min}}{X_{max}-X_{min}}\n",
    "\\end{align}"
   ]
  },
  {
   "cell_type": "markdown",
   "metadata": {},
   "source": [
    "### Normalizar una columna "
   ]
  },
  {
   "cell_type": "code",
   "execution_count": 68,
   "metadata": {},
   "outputs": [],
   "source": [
    "## yo puedo normalizar apple\n",
    "apple = prices['AAPL']\n",
    "\n",
    "# Opción 1: funciones nativas de python\n",
    "apple_norm = (apple - min(apple))/(max(apple)-min(apple))\n",
    "\n",
    "# Opción 2: métodos de Pandas (ya que prices es un dataframe y apple es una Serie)\n",
    "apple_norm = (apple-apple.min())/(apple.max()-apple.min())\n",
    "\n",
    "# Opción 3: con el método agg y funciones de numpy\n",
    "apple_norm = (apple-apple.agg(np.min))/(apple.agg(np.max)-apple.agg(np.min))"
   ]
  },
  {
   "cell_type": "code",
   "execution_count": 69,
   "metadata": {},
   "outputs": [],
   "source": [
    "### Ejercicio normalize cada columna del dataframe y luego grafiquelas juntas\n",
    "# Normalize los precios y grafiquelos\n",
    "\n",
    "\n",
    "# prices_norm = \n"
   ]
  },
  {
   "cell_type": "markdown",
   "metadata": {},
   "source": [
    "## get_returns()\n",
    "\n",
    "Siguiendo la lógica usada en get_prices() cree una función tal que para CADA COLUMNA calcule el retorno continuo o logarítmico dado por la ecuación\n",
    "\n",
    "\\begin{align}\n",
    "    r_{i} = ln(\\frac{P_{t,i}}{P_{t-1,i}})\n",
    "\\end{align}\n",
    "\n",
    "donde $i = {'AAPL','TSLA'}$ y $t$ es el tiempo"
   ]
  },
  {
   "cell_type": "code",
   "execution_count": 73,
   "metadata": {},
   "outputs": [
    {
     "data": {
      "text/plain": [
       "Date\n",
       "2021-01-04         NaN\n",
       "2021-01-05    0.012288\n",
       "2021-01-06   -0.034241\n",
       "2021-01-07    0.033554\n",
       "2021-01-08    0.008594\n",
       "                ...   \n",
       "2021-12-27    0.022715\n",
       "2021-12-28   -0.005784\n",
       "2021-12-29    0.000502\n",
       "2021-12-30   -0.006600\n",
       "2021-12-31   -0.003542\n",
       "Name: AAPL, Length: 252, dtype: float64"
      ]
     },
     "execution_count": 73,
     "metadata": {},
     "output_type": "execute_result"
    }
   ],
   "source": [
    "### Ejemplo\n",
    "\n",
    "ret_apple = np.log(prices['AAPL']/(prices['AAPL'].shift(1)))\n",
    "ret_apple"
   ]
  },
  {
   "cell_type": "code",
   "execution_count": null,
   "metadata": {},
   "outputs": [],
   "source": [
    "# def get_returns():\n",
    "\n",
    "\n",
    "# returns = get_returns()"
   ]
  },
  {
   "cell_type": "markdown",
   "metadata": {},
   "source": [
    "## Grafiquemos los precios y los retornos y sus histogramas con sus funciones de densidad de probabilidad estimadas"
   ]
  },
  {
   "cell_type": "code",
   "execution_count": 74,
   "metadata": {},
   "outputs": [],
   "source": [
    "get_returns = lambda x,y: np.log(x/y)\n",
    "returns = get_returns(prices,prices.shift(1)) "
   ]
  },
  {
   "cell_type": "code",
   "execution_count": 85,
   "metadata": {},
   "outputs": [
    {
     "data": {
      "image/png": "[encoded data removed]",
      "text/plain": [
       "<Figure size 1080x648 with 4 Axes>"
      ]
     },
     "metadata": {},
     "output_type": "display_data"
    }
   ],
   "source": [
    "prices_norm = (prices-prices.min())/(prices.max()-prices.min())\n",
    "\n",
    "fig, axes = plt.subplots(2,2, figsize = (15,9))\n",
    "sns.lineplot(ax=axes[0,0],data=prices_norm)\n",
    "axes[0,0].set_title(\"Prices\")\n",
    "\n",
    "sns.histplot(ax=axes[1,0],data=prices_norm,kde=True)\n",
    "axes[1,0].set_title('Prices distplot')\n",
    "\n",
    "sns.lineplot(ax=axes[0,1],data=returns)\n",
    "axes[0,1].set_title(\"Returns\")\n",
    "\n",
    "sns.histplot(ax=axes[1,1],data=returns,kde=True)\n",
    "axes[1,1].set_title('Returns distplot')\n",
    "\n",
    "fig.tight_layout()\n",
    "plt.show()"
   ]
  },
  {
   "cell_type": "markdown",
   "metadata": {},
   "source": [
    "## La importancia de los retornos como variable de interés\n",
    "\n",
    "La importancia de los retornos como variable de interés tiene diversas explicaciónes: \n",
    "\n",
    "+ La más empírica sugiere que nosotros, como inversionistas, más que el propio precio de un activo financiero nos interesa conocer o estimar su rendimiento, por ejemplo:\n",
    "\n",
    "No me interesa tanto saber si apple esta a 100 o a 150, lo que me interesa saber es que tanto voy a ganar (o perder) en apple si invierto 100 millones\n",
    "\n",
    "+ Otra explicación, un poco más formal, recae en que yo puedo generar supuestos más fácilmente en variables aleatorias cuya distribución es o se asemeja a la normal, ya que el estimador de mi media muestral será igual o estadísticamente similar a la media poblacional, además de tener una varianza constante.\n",
    "\n",
    "+ Desde la perspectiva de la econometría de series de tiempo, hay otro hecho relvante al momento de trabajar con los retornos ya que estos son, en su mayoría, estacionarios, eliminado el problema de raíz unitaria."
   ]
  },
  {
   "cell_type": "markdown",
   "metadata": {},
   "source": [
    "<div>\n",
    "<img src=\"./img/coincidencia.png\" width=\"500\"/>\n",
    "</div>"
   ]
  },
  {
   "cell_type": "markdown",
   "metadata": {},
   "source": [
    "***\n",
    "***"
   ]
  },
  {
   "cell_type": "markdown",
   "metadata": {},
   "source": [
    "# Parte 2: Operaciones con vectores y matrices"
   ]
  },
  {
   "cell_type": "code",
   "execution_count": 2,
   "metadata": {},
   "outputs": [],
   "source": [
    "import pandas as pd\n",
    "import numpy as np"
   ]
  },
  {
   "cell_type": "markdown",
   "metadata": {},
   "source": [
    "Suponga que los precios de cierre ajustado histórico de tres días para Apple y Tesla fueron: {100, 150, 125}, {50, 65, 68}, respectivamente. Ahora queremos \"representar matricialmente\" este conjunto de precios, y \"calcular\" su retorno contínuo por ende podríamos hacer: \n",
    "\n",
    "\\begin{equation*}\n",
    "\\mathbb{P} = \\left[\n",
    "\\begin{matrix}\n",
    "100 & 50 \\\\\n",
    "150 & 65 \\\\\n",
    "125 & 68\n",
    "\\end{matrix}\n",
    "\\right]_{3\\times 2}\n",
    "\\quad\n",
    "\\text{precios de cierre ajustado}\n",
    "\\end{equation*}\n",
    "\n",
    "\\begin{equation*}\n",
    "\\mathbb{R} = \\left[\n",
    "\\begin{matrix}\n",
    "NA & NA\\\\\n",
    "ln(\\frac{150}{100}) & ln(\\frac{65}{50})\\\\[6pt]\n",
    "ln(\\frac{125}{150}) & ln(\\frac{68}{65})\n",
    "\\end{matrix}\n",
    "\\right]_{2 \\times 2}\n",
    "\\quad\n",
    "\\text{retornos contínuos}\n",
    "\\end{equation*}"
   ]
  },
  {
   "cell_type": "markdown",
   "metadata": {},
   "source": [
    "En Python, específicamente en las librerías de Pandas y Numpy, existe un método que me permite \"rezagar\", \"resbalar\" o \"rodar\" una columna o lista de datos, estas son : "
   ]
  },
  {
   "cell_type": "code",
   "execution_count": 7,
   "metadata": {},
   "outputs": [
    {
     "data": {
      "text/html": [
       "<div>\n",
       "<style scoped>\n",
       "    .dataframe tbody tr th:only-of-type {\n",
       "        vertical-align: middle;\n",
       "    }\n",
       "\n",
       "    .dataframe tbody tr th {\n",
       "        vertical-align: top;\n",
       "    }\n",
       "\n",
       "    .dataframe thead th {\n",
       "        text-align: right;\n",
       "    }\n",
       "</style>\n",
       "<table border=\"1\" class=\"dataframe\">\n",
       "  <thead>\n",
       "    <tr style=\"text-align: right;\">\n",
       "      <th></th>\n",
       "      <th>0</th>\n",
       "      <th>1</th>\n",
       "    </tr>\n",
       "  </thead>\n",
       "  <tbody>\n",
       "    <tr>\n",
       "      <th>0</th>\n",
       "      <td>100</td>\n",
       "      <td>NaN</td>\n",
       "    </tr>\n",
       "    <tr>\n",
       "      <th>1</th>\n",
       "      <td>150</td>\n",
       "      <td>100.0</td>\n",
       "    </tr>\n",
       "    <tr>\n",
       "      <th>2</th>\n",
       "      <td>125</td>\n",
       "      <td>150.0</td>\n",
       "    </tr>\n",
       "  </tbody>\n",
       "</table>\n",
       "</div>"
      ],
      "text/plain": [
       "     0      1\n",
       "0  100    NaN\n",
       "1  150  100.0\n",
       "2  125  150.0"
      ]
     },
     "execution_count": 7,
     "metadata": {},
     "output_type": "execute_result"
    }
   ],
   "source": [
    "apple = pd.Series([100,150,125])\n",
    "apple_shift = apple.shift(1)\n",
    "\n",
    "pd.concat([apple, apple_shift],axis=1)"
   ]
  },
  {
   "cell_type": "code",
   "execution_count": 15,
   "metadata": {},
   "outputs": [
    {
     "data": {
      "text/plain": [
       "array([[50, 68],\n",
       "       [65, 50],\n",
       "       [68, 65]])"
      ]
     },
     "execution_count": 15,
     "metadata": {},
     "output_type": "execute_result"
    }
   ],
   "source": [
    "tsla = np.array([50,65,68]).reshape((3,1))\n",
    "tsla_roll = np.roll(tsla, 1).reshape((3,1))\n",
    "\n",
    "np.concatenate((tsla,tsla_roll),axis=1) ### OJO"
   ]
  },
  {
   "cell_type": "markdown",
   "metadata": {},
   "source": [
    "## Sintaxis de Numpy vs Sintaxis de Pandas\n",
    "\n",
    "como habrá notado, en ambas librerías existe una manera de realizar el \"mismo\" procedimiento, cada una tiene su sintaxis propia y la única diferencia esque numpy \"resbala\" los datos, trayendo el último al primer lugar mientras que pandas directamente lo elimina"
   ]
  },
  {
   "cell_type": "markdown",
   "metadata": {},
   "source": [
    "Como se mencionó antes, puede usar indistintamente cualquiera de las dos librerías, no obstante, en el curso usaremos numpy (con algunas salvedades como la limpieza de datos en las que pandas resulta más intuitiva)"
   ]
  },
  {
   "cell_type": "markdown",
   "metadata": {},
   "source": [
    "## Definición de matriz"
   ]
  },
  {
   "cell_type": "markdown",
   "metadata": {},
   "source": [
    "En el transcurso del curso hemos trabajado con el histórico de un solo instrumento, y con el histórico de dos instrumenos; como lo habrá notado, resulta más práctico ordenar el histórico de dos o más instrumentos en un formato de \"tabla\", que de ahora en adelante, llamaremos matriz. \n",
    "\n",
    "Al uso de matrices le daremos más provecho en la siguiente clase, no obstante nos iremos acostumbrando a la notación y al lenguaje. Diremos que una matriz es:\n",
    "\n",
    "> \"Una matriz (real) es un arreglo de números (reales) de la forma \n",
    "\n"
   ]
  },
  {
   "cell_type": "markdown",
   "metadata": {},
   "source": [
    "\\begin{equation*}\n",
    "\\mathbb{A} = \\left[\n",
    "\\begin{matrix}\n",
    "a_{11} & a_{12} & \\cdots & a_{1n} \\\\\n",
    "a_{21} & a_{22} & \\cdots & a_{2n} \\\\\n",
    "\\vdots & \\vdots & \\vdots & vdots\\\\\n",
    "a_{m1} & a_{m2} & \\cdots & a_{mn} \\\\\n",
    "\\end{matrix}\n",
    "\\right]_{m\\times n}\n",
    "\\end{equation*}\n",
    "\n",
    "Donde $a_{ij}$ se le llamará la entrada ubicada en la $i$-ésima fila y la $j$-ésima columna. [...] Además, si $m=n$ diremos que la matriz es cuadrada\"\n",
    "    Monsalve. (2017). p 31"
   ]
  },
  {
   "cell_type": "markdown",
   "metadata": {},
   "source": [
    "### Algunas operaciones con matrices \n",
    "1. Suma:\n",
    "\n",
    "Si $[a_{ij}]$ y $[b_{ij}]$ son matrices $m\\times n$, su suma es una matriz $m \\times n$ definida por la fórmula\n",
    "\\begin{align*}\n",
    "    [a_{ij}]_{m \\times n} + [b_{ij}]_{m \\times n} = [a_{ij}+b_{ij}]_{m\\times n}\n",
    "\\end{align*}\n",
    "\n",
    "por ejemplo:\n",
    "\n",
    "\\begin{equation*}\n",
    "\\left[\n",
    "    \\begin{matrix}\n",
    "    \n",
    "        10 & 15\\\\\n",
    "        3 & 9\n",
    "    \\end{matrix}\n",
    "\\right]\n",
    "+\n",
    "\\left[\n",
    "    \\begin{matrix}\n",
    "\n",
    "        12 & 3\\\\\n",
    "        5 & 18\n",
    "    \\end{matrix}\n",
    "\\right]\n",
    "=\n",
    "\\left[\n",
    "    \\begin{matrix}\n",
    "\n",
    "        22 & 18\\\\\n",
    "        8 & 27\n",
    "    \\end{matrix}\n",
    "\\right]\n",
    "\\end{equation*}\n",
    "\n",
    "OJO:\n",
    "\n",
    "Note que esta operación es válida solo sí ambas matrices tienen el mísmo numero de filas y columnas, la operación resta efunciona igual.\n",
    "\n",
    "2. Multiplicación por escalar\n",
    "\n",
    "La multiplicación de una matriz $[a_{ij}]_{m \\times n}$ por un número (o escalar) $k$ está definida como\n",
    "\n",
    "\\begin{align*}\n",
    "    k[a_{ij}]_{m\\times n} = [k a_{ij}]_{mtimes n}\n",
    "\\end{align*}\n",
    "\n",
    "Por ejemplo:\n",
    "\n",
    "\\begin{equation*}\n",
    "    5\\times\\left[\n",
    "        \\begin{matrix}\n",
    "            10 & 15 \\\\\n",
    "            3 & 9\n",
    "        \\end{matrix}\n",
    "    \\right]\n",
    "    =\n",
    "    \\left[\n",
    "        \\begin{matrix}\n",
    "        50 & 75\\\\\n",
    "        15 & 45\n",
    "        \\end{matrix}\n",
    "    \\right]\n",
    "\\end{equation*}\n",
    "\n",
    "3. Multiplicación matricial \n",
    "\n",
    "La multiplicación o el producto matricial entre una matriz, $\\mathbb{A}_{m\\times p}$, por una matriz, $\\mathbb{B}_{p\\times n}$, es una matriz $\\mathbb{C}_{m\\times n}$ cuya entrada $c_{ij}$ está dada por \n",
    "\\begin{align*}\n",
    "    c_{ij} = a_{i1}b_{1j} + a_{i2}b_{2j} + ... + a_{ip}b_{pj} = \\sum_{k=1}^{p}a_{ik}b_{kj} \n",
    "\\end{align*}\n",
    "\n",
    "Por ejemplo\n",
    "\n",
    "\\begin{equation*}\n",
    "\\left[\n",
    "    \\begin{matrix}\n",
    "    \n",
    "        10 & 15\\\\\n",
    "        3 & 9\n",
    "    \\end{matrix}\n",
    "\\right]\n",
    "\\times\n",
    "\\left[\n",
    "    \\begin{matrix}\n",
    "\n",
    "        12 & 3\\\\\n",
    "        5 & 18\n",
    "    \\end{matrix}\n",
    "\\right]\n",
    "=\n",
    "\\left[\n",
    "    \\begin{matrix}\n",
    "\n",
    "        195 & 300\\\\\n",
    "        81 & 171\n",
    "    \\end{matrix}\n",
    "\\right]\n",
    "\\end{equation*}\n",
    "\n",
    "OJO: \n",
    "\n",
    "Note que para que el producto matricial sea posible el número de columnas de la matriz a izquierda debe ser igual al número de filas de la matriz a derecha"
   ]
  },
  {
   "cell_type": "markdown",
   "metadata": {},
   "source": [
    "#### Creación de matrices"
   ]
  },
  {
   "cell_type": "code",
   "execution_count": 8,
   "metadata": {},
   "outputs": [
    {
     "name": "stdout",
     "output_type": "stream",
     "text": [
      "\n",
      "La matriz A\n",
      "[[10 15]\n",
      " [ 3  9]] \n",
      "es de dimensión (2, 2)\n",
      "\n",
      "----------------------------------------\n",
      "\n",
      "La matrix B\n",
      "[[12  3]\n",
      " [ 5 18]] \n",
      "es de dimensión (2, 2)\n",
      "\n"
     ]
    }
   ],
   "source": [
    "## considere la matriz A y la matriz B\n",
    "\n",
    "A = np.array([[10,15],[3,9]])\n",
    "B = np.array([[12,3], [5,18]])\n",
    "\n",
    "print(f\"\"\"\n",
    "La matriz A\n",
    "{A} \n",
    "es de dimensión {A.shape}\n",
    "\n",
    "----------------------------------------\n",
    "\n",
    "La matrix B\n",
    "{B} \n",
    "es de dimensión {B.shape}\n",
    "\"\"\")"
   ]
  },
  {
   "cell_type": "markdown",
   "metadata": {},
   "source": [
    "#### Suma y resta matricial"
   ]
  },
  {
   "cell_type": "code",
   "execution_count": null,
   "metadata": {},
   "outputs": [],
   "source": [
    "## Suma y resta matricial\n",
    "print(f\"\"\"\n",
    "Suma matricial\n",
    "--------------------------------\n",
    "{A+B}\n",
    "\"\"\")\n",
    "print(f\"\"\"\n",
    "Resta matricial\n",
    "--------------------------------\n",
    "{A-B}\n",
    "\"\"\")"
   ]
  },
  {
   "cell_type": "markdown",
   "metadata": {},
   "source": [
    "#### Multiplicación por escalar"
   ]
  },
  {
   "cell_type": "code",
   "execution_count": 29,
   "metadata": {},
   "outputs": [
    {
     "name": "stdout",
     "output_type": "stream",
     "text": [
      "\n",
      "Multiplicación por escalar k=5\n",
      "--------------------------------\n",
      "[[50 75]\n",
      " [15 45]]\n",
      "\n",
      "\n",
      "Multiplicación por escalar k=1/2\n",
      "--------------------------------\n",
      "[[5.  7.5]\n",
      " [1.5 4.5]]\n",
      "\n"
     ]
    }
   ],
   "source": [
    "## Multiplicación por escalar\n",
    "print(f\"\"\"\n",
    "Multiplicación por escalar k=5\n",
    "--------------------------------\n",
    "{5*A}\n",
    "\"\"\")\n",
    "print(f\"\"\"\n",
    "Multiplicación por escalar k=1/2\n",
    "--------------------------------\n",
    "{1/2*A}\n",
    "\"\"\")"
   ]
  },
  {
   "cell_type": "markdown",
   "metadata": {},
   "source": [
    "#### Multiplicación matricial"
   ]
  },
  {
   "cell_type": "code",
   "execution_count": 37,
   "metadata": {},
   "outputs": [
    {
     "name": "stdout",
     "output_type": "stream",
     "text": [
      "\n",
      "Multiplicación matricial A@B\n",
      "--------------------------------\n",
      "[[195 300]\n",
      " [ 81 171]]\n",
      "\n"
     ]
    }
   ],
   "source": [
    "## Multiplicación matricial\n",
    "print(f\"\"\"\n",
    "Multiplicación matricial A@B\n",
    "--------------------------------\n",
    "{A@B}\n",
    "\"\"\")"
   ]
  },
  {
   "cell_type": "markdown",
   "metadata": {},
   "source": [
    "### Algunas propiedades importantes de la multiplicación entre matrices\n",
    "\n",
    " + En general, $\\mathbb{A}\\mathbb{B} \\neq \\mathbb{B}\\mathbb{A}$ (no se cumple la ley conmutativa)\n",
    " + $\\mathbb{A}(\\mathbb{B}\\mathbb{C}) = (\\mathbb{A}\\mathbb{B})\\mathbb{C}$ (ley asocitativa)\n",
    " + $\\mathbb{A}(\\mathbb{B} + \\mathbb{C}) = \\mathbb{A}\\mathbb{B} + \\mathbb{A}\\mathbb{C}$ (ley distributiva a derecha )\n",
    " + $(\\mathbb{B} + \\mathbb{C})\\mathbb{A} = \\mathbb{B}\\mathbb{A} + \\mathbb{C}\\mathbb{A}$ (ley distributiva a izquierda )\n",
    " + $k(\\mathbb{A}\\mathbb{B}) = k(\\mathbb{A})\\mathbb{B} = A(k\\mathbb{B}), \\quad tq \\quad k\\in\\mathbb{R}$\n",
    " + Para toda matriz cuadrada $\\mathbb{A}$ de tamaño $n\\times n$, también se tiene que $\\mathbb{A}\\mathbb{I}_{n} = \\mathbb{I}_{n}\\mathbb{A} = \\mathbb{I}$ tal que $\\mathbb{I}_{n}$ es la matriz identidad."
   ]
  },
  {
   "cell_type": "markdown",
   "metadata": {},
   "source": [
    "## Definición de Vector"
   ]
  },
  {
   "cell_type": "markdown",
   "metadata": {},
   "source": [
    "Ya que el propósito de esta asistencia académica es más pracitca que teórica, vamos a asumir, por simplicidad, la siguiente definición:\n",
    "\n",
    "> Lagrange. (1788), Grassmann. (1844), tomado de Monslave. (2017) p 134.\n",
    "Definición 1: Para cualquier $n=1,2,3,...,$ los elementos del conjunto \n",
    "\\begin{align*}\n",
    "\\boldsymbol{\\mathbb{R}}^{n} = {(x_{1},x_{2},...,x_{n}|x_{i}\\in \\boldsymbol{\\mathbb{R}}, i = 1,2,...,n)}\n",
    "\\end{align*}\n",
    "Se les llamará vectores (de n dimensiones)\n",
    "\n",
    "Además, Monsavle menciona que:\n",
    ">\"Nota 1: Conviene destacar que, con esta definición, los vectores de n dimensiones son, simplemente, matrices $1 \\times n$ y, por tanto, satisfacen todas sus propiedades algebráicas de suma y producto por escalar\" (p 134)"
   ]
  },
  {
   "cell_type": "markdown",
   "metadata": {},
   "source": [
    "### Algunas operaciones con vectores\n",
    "\n",
    "Adoptando la definición dada podemos usar las operaciones de suma y multiplicación por escalar\n",
    "\n",
    "1. producto interior o producto punto entre dos vectores \n",
    "\n",
    "Dados dos vectores, $\\boldsymbol{x} = (x_{1},x_{2},...,x_{n})$ e $\\boldsymbol{y} = (y_{1},y_{2},...,y_{n})$ de $\\mathbb{R}^{n}$, el producto punto es:\n",
    "\\begin{align*}\n",
    "    \\boldsymbol{x} \\cdot \\boldsymbol{y} = x_{1}y_{1} + x_{2}y_{2} + \\cdots + x_{n}y_{n} = \\sum_{i=1}^{n}x_{i}y_{i}\n",
    "\\end{align*}"
   ]
  },
  {
   "cell_type": "markdown",
   "metadata": {},
   "source": [
    "#### Creación de vectores"
   ]
  },
  {
   "cell_type": "code",
   "execution_count": 11,
   "metadata": {},
   "outputs": [
    {
     "name": "stdout",
     "output_type": "stream",
     "text": [
      "\n",
      "El vector x \n",
      "[[10 20 30 50 60]] \n",
      "es de dimensión (1, 5)\n",
      "\n",
      "---------------------------------------\n",
      "\n",
      "El vector y \n",
      "[[5 4 2 7 6]] \n",
      "es de  dimensión (1, 5)\n",
      "\n"
     ]
    }
   ],
   "source": [
    "# considere el vector x y el vector y\n",
    "x = np.array([10,20,30,50,60]).reshape((1,5))\n",
    "y = np.array([5,4,2,7,6]).reshape((1,5))\n",
    "\n",
    "print(f\"\"\"\n",
    "El vector x \n",
    "{x} \n",
    "es de dimensión {x.shape}\n",
    "\n",
    "---------------------------------------\n",
    "\n",
    "El vector y \n",
    "{y} \n",
    "es de  dimensión {y.shape}\n",
    "\"\"\")"
   ]
  },
  {
   "cell_type": "markdown",
   "metadata": {},
   "source": [
    "#### Suma y resta escalar de un vector"
   ]
  },
  {
   "cell_type": "code",
   "execution_count": 13,
   "metadata": {},
   "outputs": [
    {
     "name": "stdout",
     "output_type": "stream",
     "text": [
      "\n",
      "suma y resta escalar de x\n",
      "\n",
      "x + 5 = [[15 25 35 55 65]]\n",
      "\n",
      "x - 10 = [[ 0 10 20 40 50]]\n",
      "\n"
     ]
    }
   ],
   "source": [
    "## suma y resta escalar de un vector 1 x n\n",
    "\n",
    "print(f\"\"\"\n",
    "suma y resta escalar de x\n",
    "\n",
    "x + 5 = {x + 5}\n",
    "\n",
    "x - 10 = {x - 10}\n",
    "\"\"\")"
   ]
  },
  {
   "cell_type": "markdown",
   "metadata": {},
   "source": [
    "Note que hacer $ \\boldsymbol{x} + 5$ es lo mismo que crear otro vector $ \\boldsymbol{c}_{1\\times 5} = (5,5,5,5,5)$ y sumar $\\boldsymbol{x} + \\boldsymbol{c}$ aplicando lo aprendido en la suma matricial "
   ]
  },
  {
   "cell_type": "code",
   "execution_count": 14,
   "metadata": {},
   "outputs": [
    {
     "name": "stdout",
     "output_type": "stream",
     "text": [
      "[[15 25 35 55 65]]\n"
     ]
    }
   ],
   "source": [
    "x = np.array([10,20,30,50,60]).reshape((1,5))\n",
    "c = np.array([5,5,5,5,5]).reshape(1,5)\n",
    "\n",
    "print(x+c)"
   ]
  },
  {
   "cell_type": "code",
   "execution_count": 15,
   "metadata": {},
   "outputs": [
    {
     "data": {
      "text/plain": [
       "array([[ True,  True,  True,  True,  True]])"
      ]
     },
     "execution_count": 15,
     "metadata": {},
     "output_type": "execute_result"
    }
   ],
   "source": [
    "x + c == x + 5"
   ]
  },
  {
   "cell_type": "markdown",
   "metadata": {},
   "source": [
    "De igual forma para la resta"
   ]
  },
  {
   "cell_type": "markdown",
   "metadata": {},
   "source": [
    "#### Multiplicación por escalar de un vector"
   ]
  },
  {
   "cell_type": "code",
   "execution_count": 17,
   "metadata": {},
   "outputs": [
    {
     "name": "stdout",
     "output_type": "stream",
     "text": [
      "\n",
      "x * 5 = [[ 50 100 150 250 300]]\n",
      "\n"
     ]
    }
   ],
   "source": [
    "#Multiplicación por escalar\n",
    "\n",
    "print(f\"\"\"\n",
    "x * 5 = {x*5}\n",
    "\"\"\")"
   ]
  },
  {
   "cell_type": "markdown",
   "metadata": {},
   "source": [
    "En Este caso, multiplicar por un escalar no es lo mismo que multiplicar por un vector de 5"
   ]
  },
  {
   "cell_type": "code",
   "execution_count": 22,
   "metadata": {},
   "outputs": [
    {
     "name": "stdout",
     "output_type": "stream",
     "text": [
      "[[ 50 100 150 250 300]]\n"
     ]
    }
   ],
   "source": [
    "### Ejercicio:\n",
    "# ¿por qué multiplticar por un escalar no es lo mismo que multiplicar por un vector de 5?\n",
    "# OJO: Pese a que python nos permite hacer la operación teóricamente no tiene sentido\n",
    "\n",
    "x = np.array([10,20,30,50,60]).reshape((1,5))\n",
    "c = np.array([5,5,5,5,5]).reshape(1,5)\n",
    "\n",
    "print(x*c)"
   ]
  },
  {
   "cell_type": "markdown",
   "metadata": {},
   "source": [
    "#### Producto punto entre dos vectores\n"
   ]
  },
  {
   "cell_type": "code",
   "execution_count": 26,
   "metadata": {},
   "outputs": [
    {
     "name": "stdout",
     "output_type": "stream",
     "text": [
      "[[900]]\n"
     ]
    }
   ],
   "source": [
    "print(\n",
    "    np.dot(x,y.T)\n",
    ")"
   ]
  },
  {
   "cell_type": "markdown",
   "metadata": {},
   "source": [
    "# Parte 3: Aplicaciones de lo aprendido con Matrices y vectores"
   ]
  },
  {
   "cell_type": "code",
   "execution_count": null,
   "metadata": {},
   "outputs": [],
   "source": [
    "### Ejercicio: \n",
    "# Use la función get_prices que creamos al inicio para importar los datos de las siguientes acciones\n",
    "\n",
    "symbols = symbols = [\n",
    "    \"AAPL\",\n",
    "    \"MSFT\",\n",
    "    \"AMZN\",\n",
    "    \"GOOG\",\n",
    "    \"XOM\",\n",
    "    \"SNP\",\n",
    "    \"EC\",\n",
    "    \"TPL\",\n",
    "    \"PFE\",\n",
    "    \"NVS\",\n",
    "]\n",
    "\n",
    "start = '2010-01-01'\n",
    "end = '2022-08-12'\n",
    "intervals = '1d'\n",
    "\n",
    "# prices = get_prices()"
   ]
  },
  {
   "cell_type": "code",
   "execution_count": 28,
   "metadata": {},
   "outputs": [],
   "source": [
    "### Ejericio: \n",
    "# Use la función get_returns() para obtener los retornos logarítmicos \n",
    "\n",
    "#returns = get_returns()"
   ]
  },
  {
   "cell_type": "markdown",
   "metadata": {},
   "source": [
    "## Matriz de varianzas y covarianzas\n",
    "\n",
    "La matriz de varianzas y covarianzas, es un matriz cuadrada, simétrica, semidefinida positiva en la que cada $\\Sigma_{ij}$ es la covarianza del activo $i$ y el activo $j$, note que cuando $i=j$ entonces es la varianza del activo $i$\n",
    "\n",
    "\\begin{align*}\n",
    "    \\Sigma_{n\\times n} = \n",
    "    \\left[\n",
    "        \\begin{matrix}\n",
    "            \\sigma_{11}^{2} & \\sigma_{12} & \\cdots & \\sigma_{1n}\\\\\n",
    "            \\sigma_{21} & \\sigma_{22}^{2} & \\cdots & \\sigma_{2n}\\\\\n",
    "            \\vdots & \\vdots & \\ddots & \\vdots\\\\\n",
    "            \\sigma_{m1} & \\sigma_{m2} & \\cdots & \\sigma_{mn}^{2}\\\\\n",
    "        \\end{matrix}\n",
    "    \\right]_{m\\times n}\n",
    "\\end{align*}\n",
    "\n",
    "Es cuadrada porque $m=n$, es simétrica porque $\\Sigma = \\Sigma^{T}$, y es semidefinida positiva porque todos sus menores principales (los valores de la diagonal) son mayores o iguales a 0.\n",
    "\n",
    "Donde $i = j = \\{1,2,3,...,n\\}$ o, en nuestro caso, $i = j = \\{``AAPL\",``MSFT\",\\cdots,``NVS\"\\}$"
   ]
  },
  {
   "cell_type": "code",
   "execution_count": null,
   "metadata": {},
   "outputs": [],
   "source": [
    "vcov_prices = prices.cov()\n",
    "vcov_prices"
   ]
  },
  {
   "cell_type": "code",
   "execution_count": null,
   "metadata": {},
   "outputs": [],
   "source": [
    "fig = plt.figure(figsize =(10,7))\n",
    "sns.heatmap(vcov_prices)\n",
    "plt.title(\"Matriz de varianzas y covarianzas de los precios\")\n",
    "plt.show()"
   ]
  },
  {
   "cell_type": "code",
   "execution_count": null,
   "metadata": {},
   "outputs": [],
   "source": [
    "vcov_returns = returns.cov()\n",
    "vcov_returns"
   ]
  },
  {
   "cell_type": "code",
   "execution_count": null,
   "metadata": {},
   "outputs": [],
   "source": [
    "fig = plt.figure(figsize =(10,7))\n",
    "sns.heatmap(vcov_returns)\n",
    "plt.title(\"Matriz de varianzas y covarianzas de los retornos\")\n",
    "plt.show()"
   ]
  },
  {
   "cell_type": "code",
   "execution_count": null,
   "metadata": {},
   "outputs": [],
   "source": [
    "### Ejercicio (opcional)\n",
    "# Cree una función que calcule una matriz de varianzas y covarianzas para prices y para returns\n",
    "\n",
    "# def get_vcov():"
   ]
  },
  {
   "cell_type": "markdown",
   "metadata": {},
   "source": [
    "## Vector de retornos\n",
    "El vector de retornos está definido por $\\boldsymbol{r} = (\\mu_{1}, \\mu_{2}, \\cdots, \\mu_{n})$, recuerde que \n",
    "\\begin{align*}\n",
    "    \\mu_{i} = \\frac{1}{T}\\sum_{t=1}^{T}x_{it}\n",
    "\\end{align*} \n",
    "\n",
    "Donde $i = \\{1,2,3,...,n\\}$ o, en nuestro caso, $i = \\{``AAPL\",``MSFT\",\\cdots,``NVS\"\\}$"
   ]
  },
  {
   "cell_type": "code",
   "execution_count": 29,
   "metadata": {},
   "outputs": [],
   "source": [
    "### Ejercicio\n",
    "# Calcule el vector de retornos\n",
    "\n",
    "#r = "
   ]
  },
  {
   "cell_type": "markdown",
   "metadata": {},
   "source": [
    "## Vector de varianzas"
   ]
  },
  {
   "cell_type": "code",
   "execution_count": null,
   "metadata": {},
   "outputs": [],
   "source": [
    "## Ejercicio:\n",
    "# Calcule el vector de varianzas"
   ]
  },
  {
   "cell_type": "markdown",
   "metadata": {},
   "source": [
    "## Vector de desviaciones estándar"
   ]
  },
  {
   "cell_type": "code",
   "execution_count": 1,
   "metadata": {},
   "outputs": [],
   "source": [
    "## Vector de desviación estándar\n",
    "# Calcule el vector de desviaciones estándar"
   ]
  }
 ],
 "metadata": {
  "kernelspec": {
   "display_name": "Python 3.10.5 ('cursos')",
   "language": "python",
   "name": "python3"
  },
  "language_info": {
   "codemirror_mode": {
    "name": "ipython",
    "version": 3
   },
   "file_extension": ".py",
   "mimetype": "text/x-python",
   "name": "python",
   "nbconvert_exporter": "python",
   "pygments_lexer": "ipython3",
   "version": "3.10.5"
  },
  "orig_nbformat": 4,
  "vscode": {
   "interpreter": {
    "hash": "711b956aa9e57167f0602a5d603fe1ad97ab6073cad01acce9e6aa53de4da7f0"
   }
  }
 },
 "nbformat": 4,
 "nbformat_minor": 2
}
